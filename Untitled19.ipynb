{
  "nbformat": 4,
  "nbformat_minor": 0,
  "metadata": {
    "colab": {
      "provenance": [],
      "authorship_tag": "ABX9TyO378vggbs1U8yCpqJrNPFW",
      "include_colab_link": true
    },
    "kernelspec": {
      "name": "python3",
      "display_name": "Python 3"
    },
    "language_info": {
      "name": "python"
    }
  },
  "cells": [
    {
      "cell_type": "markdown",
      "metadata": {
        "id": "view-in-github",
        "colab_type": "text"
      },
      "source": [
        "<a href=\"https://colab.research.google.com/github/thanmai09/FMML_ALLREPOS/blob/main/Untitled19.ipynb\" target=\"_parent\"><img src=\"https://colab.research.google.com/assets/colab-badge.svg\" alt=\"Open In Colab\"/></a>"
      ]
    },
    {
      "cell_type": "markdown",
      "source": [
        "# **🚀 Day 6. Majority Element II 🧠**\n",
        "# 💡 Problem Description:\n",
        "You are given an array of integers arr[] where each number represents a vote for a candidate. Return the candidates that have votes greater than one-third of the total votes. If there's no majority vote, return an empty array.\n",
        "\n",
        "Note: The answer should be returned in an increasing order.\n",
        "\n",
        "# 🔍 Example Walkthrough:\n",
        "Input:\n",
        "arr[] = [2, 1, 5, 5, 5, 5, 6, 6, 6, 6, 6]\n",
        "Output:\n",
        "[5, 6]\n",
        "\n",
        "Explanation:\n",
        "5 and 6 occur more than n / 3 times in the array.\n",
        "\n",
        "Input:\n",
        "arr[] = [1, 2, 3, 4, 5]\n",
        "Output:\n",
        "[]\n",
        "\n",
        "Explanation:\n",
        "No candidate occurs more than n / 3 times.\n",
        "\n",
        "Constraints:\n",
        "1 <= arr.size() <= 10^6\n",
        "-10^9 <= arr[i] <= 10^9\n",
        "\n",
        "# 🎯 My Approach:\n",
        "Boyer-Moore Voting Algorithm:\n",
        "\n",
        "-> The problem can be efficiently solved using the Boyer-Moore Voting Algorithm to find the top two candidates with the potential to exceed n / 3 votes.\n",
        "First, identify the two potential majority elements.\n",
        "Then, verify their counts to ensure they actually exceed the threshold.\n",
        "This approach reduces the problem to a linear pass through the array.\n",
        "Steps:\n",
        "\n",
        "->Traverse the array to find two majority candidates (num1 and num2) using count variables.\n",
        "Traverse again to count occurrences of the candidates and validate the result.\n",
        "Ensure the final output is sorted to meet the problem requirements.\n",
        "\n"
      ],
      "metadata": {
        "id": "IKvEnOpMugsw"
      }
    },
    {
      "cell_type": "code",
      "source": [
        "class Solution:\n",
        "    def findMajority(self, arr):\n",
        "        num1, num2, c1, c2 = None, None, 0, 0\n",
        "        n = len(arr)\n",
        "        for x in arr:\n",
        "            if x == num1:\n",
        "                c1 += 1\n",
        "            elif x == num2:\n",
        "                c2 += 1\n",
        "            elif c1 == 0:\n",
        "                num1 = x\n",
        "                c1 = 1\n",
        "            elif c2 == 0:\n",
        "                num2 = x\n",
        "                c2 = 1\n",
        "            else:\n",
        "                c1 -= 1\n",
        "                c2 -= 1\n",
        "        c1, c2 = 0, 0\n",
        "        for x in arr:\n",
        "            if x == num1:\n",
        "                c1 += 1\n",
        "            elif x == num2:\n",
        "                c2 += 1\n",
        "        res = []\n",
        "        if c1 > n // 3:\n",
        "            res.append(num1)\n",
        "        if c2 > n // 3:\n",
        "            res.append(num2)\n",
        "        res.sort()\n",
        "        return res\n",
        "\n",
        "# Driver code\n",
        "if __name__ == '__main__':\n",
        "    sol = Solution()\n",
        "\n",
        "    # Test case 1\n",
        "    arr1 = [3, 2, 3]\n",
        "    result1 = sol.findMajority(arr1)\n",
        "    print(f\"Majority elements in {arr1}: {result1}\")  # Expected output: [3]\n",
        "\n",
        "    # Test case 2\n",
        "    arr2 = [1, 2]\n",
        "    result2 = sol.findMajority(arr2)\n",
        "    print(f\"Majority elements in {arr2}: {result2}\")  # Expected output: []\n",
        "\n",
        "    # Test case 3\n",
        "    arr3 = [2, 2, 1, 1, 1, 2, 2]\n",
        "    result3 = sol.findMajority(arr3)\n",
        "    print(f\"Majority elements in {arr3}: {result3}\")  # Expected output: [2]\n",
        "\n",
        "    # Test case 4\n",
        "    arr4 = [1, 1, 1, 3, 3, 2, 2, 2]\n",
        "    result4 = sol.findMajority(arr4)\n",
        "    print(f\"Majority elements in {arr4}: {result4}\")  # Expected output: [1, 2]\n",
        "\n",
        "    # Test case 5\n",
        "    arr5 = [1, 1, 1, 2, 2, 2, 3, 3]\n",
        "    result5 = sol.findMajority(arr5)\n",
        "    print(f\"Majority elements in {arr5}: {result5}\") # Expected output: [1, 2]\n",
        "\n",
        "    # Test case 6 (empty array)\n",
        "    arr6 = []\n",
        "    result6 = sol.findMajority(arr6)\n",
        "    print(f\"Majority elements in {arr6}: {result6}\") # Expected output: []\n",
        "\n",
        "    # Test case 7 (array with one element)\n",
        "    arr7 = [1]\n",
        "    result7 = sol.findMajority(arr7)\n",
        "    print(f\"Majority elements in {arr7}: {result7}\") # Expected output: [1]\n",
        "\n",
        "    # Test case 8 (array with two same elements)\n",
        "    arr8 = [1, 1]\n",
        "    result8 = sol.findMajority(arr8)\n",
        "    print(f\"Majority elements in {arr8}: {result8}\") # Expected output: [1]\n",
        "\n",
        "    # Test case 9 (array with three same elements)\n",
        "    arr9 = [1, 1, 1]\n",
        "    result9 = sol.findMajority(arr9)\n",
        "    print(f\"Majority elements in {arr9}: {result9}\") # Expected output: [1]"
      ],
      "metadata": {
        "colab": {
          "base_uri": "https://localhost:8080/"
        },
        "id": "0wGcUbadxxOZ",
        "outputId": "b2ff03fe-93d2-4e9e-90fa-639ce97b1e6e"
      },
      "execution_count": 1,
      "outputs": [
        {
          "output_type": "stream",
          "name": "stdout",
          "text": [
            "Majority elements in [3, 2, 3]: [3]\n",
            "Majority elements in [1, 2]: [1, 2]\n",
            "Majority elements in [2, 2, 1, 1, 1, 2, 2]: [1, 2]\n",
            "Majority elements in [1, 1, 1, 3, 3, 2, 2, 2]: [1, 2]\n",
            "Majority elements in [1, 1, 1, 2, 2, 2, 3, 3]: [1, 2]\n",
            "Majority elements in []: []\n",
            "Majority elements in [1]: [1]\n",
            "Majority elements in [1, 1]: [1]\n",
            "Majority elements in [1, 1, 1]: [1]\n"
          ]
        }
      ]
    }
  ]
}